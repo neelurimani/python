{
 "cells": [
  {
   "cell_type": "code",
   "execution_count": null,
   "metadata": {
    "id": "xZtHgQoFjFwR"
   },
   "outputs": [],
   "source": [
    "a=19\n",
    "b=17\n",
    "if(a>18)and(b>18):\n",
    " print(\"Let them in\")\n",
    "elif a>18 and b<18:\n",
    " print(\"let person a be in\")\n",
    "elif a<18 and b>18:\n",
    " print(\"let person b be in\")\n",
    "else:\n",
    " print(\"Dont let them in\")"
   ]
  },
  {
   "cell_type": "code",
   "execution_count": null,
   "metadata": {
    "id": "xuLfzoA-jFwT"
   },
   "outputs": [],
   "source": [
    "tup_var=('a','b',1,2,0,3)\n",
    "print(tup_var)\n",
    "print(type(tup_var))"
   ]
  },
  {
   "cell_type": "code",
   "execution_count": null,
   "metadata": {
    "id": "s0u_5A7bjFwT"
   },
   "outputs": [],
   "source": [
    "tup_var=('a','b',1,2,3,[1,2,3],(1,2))\n",
    "print(tup_var)\n",
    "type(list(tup_var))\n",
    "tp=list(tup_var)\n",
    "print(tp)"
   ]
  },
  {
   "cell_type": "code",
   "execution_count": null,
   "metadata": {
    "id": "FLsnLnV_jFwU"
   },
   "outputs": [],
   "source": [
    "dict_type={1 ,2 ,3}\n",
    "print(dict_type)\n",
    "print(type(dict_type))"
   ]
  },
  {
   "cell_type": "code",
   "execution_count": null,
   "metadata": {
    "id": "_G2Av-OgjFwU"
   },
   "outputs": [],
   "source": [
    "lst_man=[1,2,2,2,3,3,5,8,9,9]\n",
    "print(lst_man)\n",
    "result=set(lst_man)\n",
    "tp=list(result)\n",
    "print(result)"
   ]
  },
  {
   "cell_type": "code",
   "execution_count": null,
   "metadata": {
    "id": "g-GnmawCjFwU"
   },
   "outputs": [],
   "source": [
    "lst_mn=[1,2,3,4,5,6,7,]\n",
    "print(\"The number of items in the list are:\",len(lst_mn))\n",
    "print(\"The greatest number in the list is:\",max(lst_mn))\n",
    "print(\"sum of all elements in the list is:\",sum(lst_mn))"
   ]
  },
  {
   "cell_type": "code",
   "execution_count": null,
   "metadata": {
    "id": "UxFRpCdMjFwU"
   },
   "outputs": [],
   "source": [
    "a=1\n",
    "while a<100:\n",
    "    a=a+1\n",
    "print(\"loop complete:\",a)"
   ]
  },
  {
   "cell_type": "code",
   "execution_count": null,
   "metadata": {
    "id": "PwkctWAvjFwV"
   },
   "outputs": [],
   "source": [
    "a=1\n",
    "for elem in lst_var:\n",
    "    a+=1\n",
    "print(a) "
   ]
  },
  {
   "cell_type": "code",
   "execution_count": null,
   "metadata": {
    "id": "BqlbIzXLjFwV"
   },
   "outputs": [],
   "source": [
    "lst_var=['Delhi','banglore','chennai','mumbai','kochin']\n",
    "if 'Delhi' in lst_var:\n",
    "    print(\"yes it is there\")\n",
    "else:\n",
    "    print(\"not in the list\")"
   ]
  },
  {
   "cell_type": "code",
   "execution_count": null,
   "metadata": {
    "id": "FMSsf7cajFwV"
   },
   "outputs": [],
   "source": [
    "lst_var=[23,45,67,89,91,41,89,79,25,67]\n",
    "print(list(sorted(lst_var,reverse=True)))\n",
    "lst_var.sort()"
   ]
  },
  {
   "cell_type": "code",
   "execution_count": null,
   "metadata": {
    "id": "AQbzuCz3jFwW"
   },
   "outputs": [],
   "source": [
    "print(lst_var)"
   ]
  },
  {
   "cell_type": "code",
   "execution_count": null,
   "metadata": {
    "id": "EZW6N1Y6jFwW"
   },
   "outputs": [],
   "source": [
    "allowed_input=[1,2,3,4,6,'w','wd','n']"
   ]
  },
  {
   "cell_type": "code",
   "execution_count": null,
   "metadata": {
    "id": "tCjjDgEJjFwW"
   },
   "outputs": [],
   "source": []
  },
  {
   "cell_type": "code",
   "execution_count": null,
   "metadata": {
    "id": "pk8PQhhSjFwW"
   },
   "outputs": [],
   "source": [
    "input=1"
   ]
  },
  {
   "cell_type": "code",
   "execution_count": null,
   "metadata": {
    "id": "tTza0G3wjFwW"
   },
   "outputs": [],
   "source": [
    "input=2\n"
   ]
  },
  {
   "cell_type": "code",
   "execution_count": null,
   "metadata": {
    "id": "w28j7KFCjFwX"
   },
   "outputs": [],
   "source": [
    "x=8\n",
    "x='hello'\n",
    "print(x)"
   ]
  },
  {
   "cell_type": "code",
   "execution_count": null,
   "metadata": {
    "id": "KfnLS57LjFwX"
   },
   "outputs": [],
   "source": [
    "x=1\n",
    "print(x)"
   ]
  },
  {
   "cell_type": "code",
   "execution_count": null,
   "metadata": {
    "id": "MW00K_a-jFwX"
   },
   "outputs": [],
   "source": [
    "mani=[1,2]"
   ]
  },
  {
   "cell_type": "code",
   "execution_count": null,
   "metadata": {
    "id": "JcSEP-OGjFwY"
   },
   "outputs": [],
   "source": [
    "mani"
   ]
  },
  {
   "cell_type": "code",
   "execution_count": null,
   "metadata": {
    "id": "DeQrPcydjFwY"
   },
   "outputs": [],
   "source": [
    "y=2\n",
    "x,y"
   ]
  },
  {
   "cell_type": "code",
   "execution_count": null,
   "metadata": {
    "id": "AjbmF5pwjFwY"
   },
   "outputs": [],
   "source": [
    "5+6\n"
   ]
  },
  {
   "cell_type": "code",
   "execution_count": null,
   "metadata": {
    "id": "NZvHnxiOjFwY"
   },
   "outputs": [],
   "source": [
    "11111111111111111111111111111111111111111111111111111111111111111111111111111111111111111111111111111111111111111111111111111111111111111111111111+999999999999999999999999999999999999999999999999999999999999999999999999999999999999999999999999999999999999999999999999999999999999999999999999999999999999999999999999"
   ]
  },
  {
   "cell_type": "code",
   "execution_count": null,
   "metadata": {
    "id": "izNLvZdRjFwZ"
   },
   "outputs": [],
   "source": [
    "10//3"
   ]
  },
  {
   "cell_type": "code",
   "execution_count": null,
   "metadata": {
    "id": "G2FqnDcFjFwZ"
   },
   "outputs": [],
   "source": [
    "10$3"
   ]
  },
  {
   "cell_type": "code",
   "execution_count": null,
   "metadata": {
    "id": "BlWCaZJsjFwZ"
   },
   "outputs": [],
   "source": [
    "10%3"
   ]
  },
  {
   "cell_type": "code",
   "execution_count": null,
   "metadata": {
    "id": "rZnLwiivjFwZ"
   },
   "outputs": [],
   "source": [
    "list=[1]"
   ]
  },
  {
   "cell_type": "code",
   "execution_count": null,
   "metadata": {
    "id": "y_8WsLAnjFwa"
   },
   "outputs": [],
   "source": [
    "print(list)"
   ]
  },
  {
   "cell_type": "code",
   "execution_count": null,
   "metadata": {
    "id": "XC-mP-tzjFwa"
   },
   "outputs": [],
   "source": [
    "mn='hello'\n",
    "print(mn)"
   ]
  },
  {
   "cell_type": "code",
   "execution_count": null,
   "metadata": {
    "id": "2hovlXuajFwa"
   },
   "outputs": [],
   "source": [
    "mn=[\"12\"]\n",
    "print(mn)"
   ]
  },
  {
   "cell_type": "code",
   "execution_count": null,
   "metadata": {
    "id": "4V-tKqQGjFwb"
   },
   "outputs": [],
   "source": [
    "a=\"mn\"\n",
    "print(a)"
   ]
  },
  {
   "cell_type": "code",
   "execution_count": null,
   "metadata": {
    "id": "a2ilQz2ojFwb"
   },
   "outputs": [],
   "source": [
    "m=5\n",
    "n=7\n",
    "m,n"
   ]
  },
  {
   "cell_type": "code",
   "execution_count": null,
   "metadata": {
    "id": "rwg13s3tjFwb"
   },
   "outputs": [],
   "source": [
    "m+n"
   ]
  },
  {
   "cell_type": "code",
   "execution_count": null,
   "metadata": {
    "id": "sNbiA7PkjFwb"
   },
   "outputs": [],
   "source": [
    "m/n"
   ]
  },
  {
   "cell_type": "code",
   "execution_count": null,
   "metadata": {
    "id": "IlxSXRrvjFwb"
   },
   "outputs": [],
   "source": [
    "5//5"
   ]
  },
  {
   "cell_type": "code",
   "execution_count": null,
   "metadata": {
    "id": "XkYUwx3TjFwc"
   },
   "outputs": [],
   "source": [
    "5%5"
   ]
  },
  {
   "cell_type": "code",
   "execution_count": null,
   "metadata": {
    "id": "mGnjf221jFwc"
   },
   "outputs": [],
   "source": [
    "m==6"
   ]
  },
  {
   "cell_type": "code",
   "execution_count": null,
   "metadata": {
    "id": "suAD78MejFwc"
   },
   "outputs": [],
   "source": [
    "m==9,n==5"
   ]
  },
  {
   "cell_type": "code",
   "execution_count": null,
   "metadata": {
    "id": "8QYMzGsIjFwc"
   },
   "outputs": [],
   "source": [
    "true+flase"
   ]
  },
  {
   "cell_type": "code",
   "execution_count": null,
   "metadata": {
    "id": "RoKiZBtyjFwc"
   },
   "outputs": [],
   "source": [
    "True+False"
   ]
  },
  {
   "cell_type": "code",
   "execution_count": null,
   "metadata": {
    "id": "4QQT6W7tjFwd"
   },
   "outputs": [],
   "source": [
    "m!=6"
   ]
  },
  {
   "cell_type": "code",
   "execution_count": null,
   "metadata": {
    "id": "lUHtfUSpjFwd"
   },
   "outputs": [],
   "source": [
    "mn=False\n",
    "mn+1"
   ]
  },
  {
   "cell_type": "code",
   "execution_count": null,
   "metadata": {
    "id": "zK1Go_xSjFwd"
   },
   "outputs": [],
   "source": [
    "x=22\n",
    "a=0\n",
    "b=1\n",
    "c=2\n",
    "if x<25:\n",
    "    a=0\n",
    "    b=100\n",
    "a,b"
   ]
  },
  {
   "cell_type": "code",
   "execution_count": null,
   "metadata": {
    "id": "aDPISNxKjFwd"
   },
   "outputs": [],
   "source": [
    "a=str(1)\n",
    "print(type(a))"
   ]
  },
  {
   "cell_type": "code",
   "execution_count": null,
   "metadata": {
    "id": "CkdCQ4sAjFwd"
   },
   "outputs": [],
   "source": [
    "neel=5\n",
    "if neel>1:\n",
    "    result=5\n",
    "else:\n",
    "    result=7\n",
    "result\n"
   ]
  },
  {
   "cell_type": "code",
   "execution_count": null,
   "metadata": {
    "id": "YDtq3leYjFwe"
   },
   "outputs": [],
   "source": []
  },
  {
   "cell_type": "code",
   "execution_count": null,
   "metadata": {
    "id": "Xg8MJn9CjFwe"
   },
   "outputs": [],
   "source": [
    "mnn=0\n",
    "if mnn>0:\n",
    "    result='yes'\n",
    "elif mnn<0:\n",
    "    result='nnn'\n",
    "else:\n",
    "    reslt='no'\n",
    "result"
   ]
  },
  {
   "cell_type": "code",
   "execution_count": null,
   "metadata": {
    "id": "WDfSWMmIjFwe"
   },
   "outputs": [],
   "source": [
    "po=5.1\n",
    "if po>=5:\n",
    "    if po<6:\n",
    "        bm=\"np\"\n",
    "else:\n",
    "    bm=\"uj\"\n",
    "bm"
   ]
  },
  {
   "cell_type": "code",
   "execution_count": null,
   "metadata": {
    "id": "zmD3_zpajFwe"
   },
   "outputs": [],
   "source": [
    "5%5"
   ]
  },
  {
   "cell_type": "code",
   "execution_count": null,
   "metadata": {
    "id": "amNb3kTpjFwe"
   },
   "outputs": [],
   "source": [
    "5//4"
   ]
  },
  {
   "cell_type": "code",
   "execution_count": null,
   "metadata": {
    "id": "GCo4tjY9jFwf"
   },
   "outputs": [],
   "source": [
    "a=1\n",
    "b=5\n",
    "if a+b>6:\n",
    "    print(\"true\")\n",
    "else:\n",
    "    print(\"false\")\n"
   ]
  },
  {
   "cell_type": "code",
   "execution_count": null,
   "metadata": {
    "id": "YD3n_sEgjFwf"
   },
   "outputs": [],
   "source": [
    "mn=[1,2,3,4,5,6,7,8]\n",
    "mn[0:5:3]"
   ]
  },
  {
   "cell_type": "code",
   "execution_count": null,
   "metadata": {
    "id": "YI1xK7wqjFwf"
   },
   "outputs": [],
   "source": [
    "mn[1]"
   ]
  },
  {
   "cell_type": "code",
   "execution_count": null,
   "metadata": {
    "id": "tngoaYr-jFwf"
   },
   "outputs": [],
   "source": [
    "mn[:]"
   ]
  },
  {
   "cell_type": "code",
   "execution_count": null,
   "metadata": {
    "id": "0n7KHjSajFwf"
   },
   "outputs": [],
   "source": [
    "jui=12\n",
    "jui"
   ]
  },
  {
   "cell_type": "code",
   "execution_count": null,
   "metadata": {
    "id": "FYtdTBQ1jFwg"
   },
   "outputs": [],
   "source": [
    "print(id(jui))"
   ]
  },
  {
   "cell_type": "code",
   "execution_count": null,
   "metadata": {
    "id": "O0m52r3xjFwg"
   },
   "outputs": [],
   "source": [
    "input()"
   ]
  },
  {
   "cell_type": "code",
   "execution_count": null,
   "metadata": {
    "id": "tW7LQig0jFwg"
   },
   "outputs": [],
   "source": [
    "ip=input()"
   ]
  },
  {
   "cell_type": "code",
   "execution_count": null,
   "metadata": {
    "id": "NBsgB82BjFwg"
   },
   "outputs": [],
   "source": [
    "print(ip)"
   ]
  },
  {
   "cell_type": "code",
   "execution_count": null,
   "metadata": {
    "id": "5puXalhUjFwg"
   },
   "outputs": [],
   "source": [
    "print(type(ip))"
   ]
  },
  {
   "cell_type": "code",
   "execution_count": null,
   "metadata": {
    "id": "a3Aeb3INjFwg"
   },
   "outputs": [],
   "source": [
    "mn=input()\n"
   ]
  },
  {
   "cell_type": "code",
   "execution_count": null,
   "metadata": {
    "id": "VcpW4giujFwh"
   },
   "outputs": [],
   "source": [
    "print(int(mn))"
   ]
  },
  {
   "cell_type": "code",
   "execution_count": null,
   "metadata": {
    "id": "mdPKrI7VjFwh"
   },
   "outputs": [],
   "source": [
    "a=[5]\n",
    "a.append(\"mani\")\n",
    "print(a)"
   ]
  },
  {
   "cell_type": "code",
   "execution_count": null,
   "metadata": {
    "id": "yQRVhonujFwh"
   },
   "outputs": [],
   "source": [
    "ftu=[12,\"man\",'nj']\n",
    "print(type(ftu))\n",
    "nij=('mn',ftu)\n",
    "print(nij)"
   ]
  },
  {
   "cell_type": "code",
   "execution_count": null,
   "metadata": {
    "id": "mO8UxRKJjFwh"
   },
   "outputs": [],
   "source": [
    "adt={'mn','nu','nu','mn','ju',52}\n",
    "adt"
   ]
  },
  {
   "cell_type": "code",
   "execution_count": null,
   "metadata": {
    "id": "1R_1IDfvjFwh"
   },
   "outputs": [],
   "source": [
    "marks={\"A\":92,\"B\":52,\"C\":25}\n",
    "marks[\"A\"]"
   ]
  },
  {
   "cell_type": "code",
   "execution_count": null,
   "metadata": {
    "id": "nD0JZyX7jFwh"
   },
   "outputs": [],
   "source": [
    "age=int(input(\"Please enter your age\"))\n",
    "if age>=5:\n",
    "    print(\"he is greater than 18\")\n",
    "else:\n",
    "    print(\"not greater than 18\")"
   ]
  },
  {
   "cell_type": "code",
   "execution_count": null,
   "metadata": {
    "id": "2f8kb0NKjFwi"
   },
   "outputs": [],
   "source": [
    "a=\"0\"\n",
    "print(type(a))\n",
    "a=int(a)\n",
    "print(type(a))"
   ]
  },
  {
   "cell_type": "code",
   "execution_count": null,
   "metadata": {
    "id": "i2rOUq2ojFwi"
   },
   "outputs": [],
   "source": [
    "name=input(\"Please enter your name\")\n",
    "age=input(\"Enter your age\")\n",
    "print(name,age)\n",
    "print(name,age,sep=\"##\")\n",
    "print(name,age,sep=\"##\",end=\"&&\")\n",
    "print(\"we are done\")"
   ]
  },
  {
   "cell_type": "code",
   "execution_count": null,
   "metadata": {
    "id": "HbQgQpXZjFwi"
   },
   "outputs": [],
   "source": [
    "marks=33\n",
    "print(type(marks))\n",
    "print(marks)\n",
    "marks=float(marks)\n",
    "print(type(marks))\n",
    "print(marks)"
   ]
  },
  {
   "cell_type": "code",
   "execution_count": null,
   "metadata": {
    "id": "bI6tcNeQjFwi"
   },
   "outputs": [],
   "source": [
    "mark=[1,2,3,3,3,4,5]\n",
    "print(type(mark))\n",
    "print(mark)\n",
    "mark=set(mark)\n",
    "print(type(mark))\n",
    "print(mark)\n"
   ]
  },
  {
   "cell_type": "code",
   "execution_count": null,
   "metadata": {
    "id": "gBQXJ_bSjFwi"
   },
   "outputs": [],
   "source": [
    "5**2"
   ]
  },
  {
   "cell_type": "code",
   "execution_count": null,
   "metadata": {
    "id": "LzxcHKrPjFwj"
   },
   "outputs": [],
   "source": [
    "25**4\n"
   ]
  },
  {
   "cell_type": "code",
   "execution_count": null,
   "metadata": {
    "id": "Cu79_TBqjFwj"
   },
   "outputs": [],
   "source": [
    "print(25*4)"
   ]
  },
  {
   "cell_type": "code",
   "execution_count": null,
   "metadata": {
    "id": "00WLgXZojFwj"
   },
   "outputs": [],
   "source": [
    "print(25**4)"
   ]
  },
  {
   "cell_type": "code",
   "execution_count": null,
   "metadata": {
    "id": "Fu9PHexNjFwj"
   },
   "outputs": [],
   "source": [
    "(25*4)/4-5"
   ]
  },
  {
   "cell_type": "code",
   "execution_count": null,
   "metadata": {
    "id": "bov5gmfijFwj"
   },
   "outputs": [],
   "source": [
    "25*4/8//9-8"
   ]
  },
  {
   "cell_type": "code",
   "execution_count": null,
   "metadata": {
    "id": "TFSU-ijcjFwk"
   },
   "outputs": [],
   "source": [
    "8/4"
   ]
  },
  {
   "cell_type": "code",
   "execution_count": null,
   "metadata": {
    "id": "EmzuFfjLjFwk"
   },
   "outputs": [],
   "source": []
  },
  {
   "cell_type": "code",
   "execution_count": null,
   "metadata": {
    "id": "KW0hfurOjFwk"
   },
   "outputs": [],
   "source": [
    "9%5"
   ]
  },
  {
   "cell_type": "markdown",
   "metadata": {
    "id": "dzQwEG5KjFwk"
   },
   "source": []
  },
  {
   "cell_type": "code",
   "execution_count": null,
   "metadata": {
    "id": "yqesIEZvjFwl"
   },
   "outputs": [],
   "source": [
    "25//4"
   ]
  },
  {
   "cell_type": "code",
   "execution_count": null,
   "metadata": {
    "id": "cO3OBGYajFwl"
   },
   "outputs": [],
   "source": [
    "25/4"
   ]
  },
  {
   "cell_type": "code",
   "execution_count": null,
   "metadata": {
    "id": "aLjkar3AjFwl"
   },
   "outputs": [],
   "source": [
    "20//3"
   ]
  },
  {
   "cell_type": "code",
   "execution_count": null,
   "metadata": {
    "id": "HADrb0aFjFwl"
   },
   "outputs": [],
   "source": [
    "a=5\n",
    "a+=1"
   ]
  },
  {
   "cell_type": "code",
   "execution_count": null,
   "metadata": {
    "id": "EoH9aSJajFwm"
   },
   "outputs": [],
   "source": [
    "a=18\n",
    "t=8\n",
    "print(not a>18)\n",
    "\n",
    "r=19\n",
    "print(not((a>=18 and r>=19)or t>15))"
   ]
  },
  {
   "cell_type": "code",
   "execution_count": null,
   "metadata": {
    "id": "EMLM5tc0jFwm"
   },
   "outputs": [],
   "source": [
    "d=5\n",
    "n=5\n",
    "d!=n"
   ]
  },
  {
   "cell_type": "code",
   "execution_count": null,
   "metadata": {
    "id": "koO5CGHKjFwm"
   },
   "outputs": [],
   "source": [
    "j=[1,2,3,4,5]\n",
    "if 2 in j:\n",
    "    print(\"yes\")\n",
    "else:\n",
    "    print(\"no\")"
   ]
  },
  {
   "cell_type": "code",
   "execution_count": null,
   "metadata": {
    "id": "k5OnOj66jFwm"
   },
   "outputs": [],
   "source": [
    "i=input(\"what Happend?\")\n",
    "allowed_input=['1','2','3','4','6','wd','wkt']\n",
    "valid_ip=False\n",
    "\n",
    "if i in allowed_input:\n",
    "    if i=='1':\n",
    "        print(\"only one run\")\n",
    "    elif i=='2':\n",
    "         print(\"runner for 2 runs\")\n",
    "elif i in allowed_input=='3':\n",
    "    print(\"hurray its three runs\")\n",
    "elif i in allowed_input=='4':\n",
    "    print(\"its a four on the board\")\n",
    "elif i in allowed_input=='6':\n",
    "    print(\"its a sixer\")\n",
    "elif i in allowed_input=='wd':\n",
    "    print(\"its a wide\")\n",
    "elif i in allowed_input=='wkt':\n",
    "    print(\"its a wicket\")\n",
    "else:\n",
    "    pass\n",
    "    \n",
    "    \n",
    "    \n",
    "    \n",
    "    \n",
    "\n"
   ]
  },
  {
   "cell_type": "code",
   "execution_count": null,
   "metadata": {
    "id": "ovmWV4f7jFwm"
   },
   "outputs": [],
   "source": [
    "ma=\"this.is.september\"\n",
    "ma.split(\".\")"
   ]
  },
  {
   "cell_type": "code",
   "execution_count": null,
   "metadata": {
    "id": "fp2UI8_MjFwn"
   },
   "outputs": [],
   "source": [
    "lst=[1,2,3,4,5]\n",
    "lst[:-2]\n",
    "lst[2:4]"
   ]
  },
  {
   "cell_type": "code",
   "execution_count": null,
   "metadata": {
    "id": "dAg-YaGBjFwn"
   },
   "outputs": [],
   "source": [
    "frame=\"date_job_09022022.txt\"\n",
    "frame[:-4:-1]"
   ]
  },
  {
   "cell_type": "code",
   "execution_count": null,
   "metadata": {
    "id": "JzcBRfArjFwn"
   },
   "outputs": [],
   "source": [
    "\n",
    "yu=['1','2','3','4','6','wd','wk','no']\n",
    "valid_ip=False\n",
    "while not valid_ip:\n",
    "     ru=input(\"give prompt\")\n",
    "        if ru in yu:\n",
    "        valid_ip=True\n",
    "        if ru=='1':\n",
    "        print(\"it is one\")\n",
    "        if ru=='2':\n",
    "        print(\"it is two\")\n",
    "    if ru=='3':\n",
    "        print(\"It is a fucking three\")\n",
    "    if ru=='4':\n",
    "        print(\"it is a boundary ball\")\n",
    "    if ru=='6':\n",
    "        print(\"It is a fucking six\")\n",
    "    if ru=='wd':\n",
    "        print(\"it is a wide\")\n",
    "    if ru=='no':\n",
    "        print(\"it is a nnooooo ball\")\n",
    "    \n",
    "        "
   ]
  },
  {
   "cell_type": "code",
   "execution_count": null,
   "metadata": {
    "id": "j7he4-CcjFwn"
   },
   "outputs": [],
   "source": [
    "print(\"The number of elements in yu:\",len(yu))"
   ]
  },
  {
   "cell_type": "code",
   "execution_count": null,
   "metadata": {
    "id": "pyvjLkWEjFwo"
   },
   "outputs": [],
   "source": [
    "print(\"the greates number in the list:\",max(yu))"
   ]
  },
  {
   "cell_type": "code",
   "execution_count": null,
   "metadata": {
    "id": "mlqc7ibDjFwo"
   },
   "outputs": [],
   "source": [
    "a=input(\"1st side of triangle\")\n",
    "b=input(\"2nd side of triangle\")\n",
    "c=input(\"3rd side of triangle\")\n",
    "if a==b==c:\n",
    "    print(\"It is a equilateral traingle\")\n",
    "elif a==b or b==c or c==a:\n",
    "    print(\"It is isoscles triangle\")\n",
    "else:\n",
    "    print(\"It is a scalene triangle\")\n",
    "def right_angled(a, b, c):\n",
    "    if (a*a+b*b==c*c) or (c*c+b*b==a*a) or (a*a+c*c==b*b) :\n",
    "        return \"The triangle is right-angled.\" \n",
    "    else:\n",
    "        return \"The triangle is not right-angled.\"\n",
    "\n"
   ]
  },
  {
   "cell_type": "code",
   "execution_count": null,
   "metadata": {
    "id": "VbgsPuGsjFwo"
   },
   "outputs": [],
   "source": [
    "n=int(input(\"Enter a Number\"))\n",
    "if n%2!=0:\n",
    "    print(\"Weird\")\n",
    "elif n%2==0 and n>20:\n",
    "    print(\"Not Weird\")\n",
    "elif n%2!=0 and 2<=n<=5:\n",
    "    print(\"Not Weird\")\n",
    "else:\n",
    "    print(\"Not Weird\")\n",
    "    \n",
    "    "
   ]
  },
  {
   "cell_type": "code",
   "execution_count": null,
   "metadata": {
    "id": "knx7ZC7_jFwo"
   },
   "outputs": [],
   "source": [
    "x=200\n",
    "print(x)\n",
    "y=100\n",
    "y+=5\n",
    "print(x*y)"
   ]
  },
  {
   "cell_type": "code",
   "execution_count": null,
   "metadata": {
    "id": "yBDwtpYCjFwo"
   },
   "outputs": [],
   "source": [
    "v1=\"pikachu\"\n",
    "v0=\"pichu\"\n",
    "v2=\"Richu\"\n",
    "for v in v1:\n",
    "    print(v)\n"
   ]
  },
  {
   "cell_type": "code",
   "execution_count": null,
   "metadata": {
    "id": "QKz8iq8-jFwp"
   },
   "outputs": [],
   "source": [
    "pokelist=[\"1\",\"2\",\"jigglipuff\",25,46]\n",
    "for poke in pokelist:\n",
    "    if poke==\"1\":\n",
    "        print(\"found\")\n",
    "    else:\n",
    "        continue"
   ]
  },
  {
   "cell_type": "code",
   "execution_count": null,
   "metadata": {
    "id": "uDuolr9QjFwp"
   },
   "outputs": [],
   "source": [
    "l1=[\"pikachu_10\",\"mnyy\",\"gsjg\"]\n",
    "v1=\"pikachu_1\"\n",
    "print(v1[:3])\n",
    "print(l1[1])\n",
    "print(l1[0])\n",
    "print(l1[-1])"
   ]
  },
  {
   "cell_type": "code",
   "execution_count": null,
   "metadata": {
    "id": "NxZ4xtYWjFwp"
   },
   "outputs": [],
   "source": [
    "v1=\"pikachu\"\n",
    "print(v1[-3:])"
   ]
  },
  {
   "cell_type": "code",
   "execution_count": null,
   "metadata": {
    "colab": {
     "base_uri": "https://localhost:8080/"
    },
    "id": "oGdRv4QjjFwp",
    "outputId": "01f1fe0e-6320-4c30-817a-081906c4bfaf"
   },
   "outputs": [
    {
     "name": "stdout",
     "output_type": "stream",
     "text": [
      "mani\n",
      "neeluri\n",
      "false\n"
     ]
    }
   ],
   "source": [
    "a=input()\n",
    "b=input()\n",
    "mn=[]\n",
    "for i in b:\n",
    "    mn.append(i)\n",
    "ch=[a[0],a[-1]]\n",
    "if ch in mn:\n",
    "  print(\"True\")\n",
    "else:\n",
    "  print(\"false\")\n"
   ]
  },
  {
   "cell_type": "markdown",
   "metadata": {
    "id": "H9OQMgGdjFwp"
   },
   "source": [
    "## STring Slicing"
   ]
  },
  {
   "cell_type": "code",
   "execution_count": null,
   "metadata": {
    "id": "DX1X4K1njFwq"
   },
   "outputs": [],
   "source": [
    "Neel=[\"bulb_21\",\"coocoo_54\",\"sqitele_42\",\"charmoder_29\",\"fooodon_58\"]\n",
    "for am in Neel:\n",
    "    th=am.startswith('bu')\n",
    "    print(th)\n",
    "    \n",
    "    \n",
    "    "
   ]
  },
  {
   "cell_type": "code",
   "execution_count": null,
   "metadata": {
    "id": "tJ3XuErHjFwq"
   },
   "outputs": [],
   "source": [
    "mab = ['apple', 'Apricot', 'banner','dfj','jydfjy']\n",
    "ny=[]\n",
    "for i in mab[::2]:\n",
    "    ny.append(i)\n",
    "print(ny\n",
    "     )\n",
    "    \n",
    "    \n"
   ]
  },
  {
   "cell_type": "code",
   "execution_count": null,
   "metadata": {
    "id": "7kPZ0UmsjFwq"
   },
   "outputs": [],
   "source": [
    "a=input()\n",
    "b=input()\n",
    "c=(a==b)\n",
    "b=(a<=b)\n",
    "print(c)\n",
    "print(b)\n",
    "print(c and b)\n",
    "\n"
   ]
  },
  {
   "cell_type": "code",
   "execution_count": null,
   "metadata": {
    "id": "7qg6orwvjFwr"
   },
   "outputs": [],
   "source": [
    "S=\"Python is a Programming language\"\n",
    "a=input()\n",
    "b=input()\n",
    "c=input()\n",
    "if a in S:\n",
    "    print(\"True\")\n",
    "else:\n",
    "    print(\"False\")\n",
    "if b in S:\n",
    "    print(\"True\")\n",
    "else:\n",
    "    print(\"False\")\n",
    "if c in S:\n",
    "    print(\"True\")\n",
    "else:\n",
    "    print(\"False\")"
   ]
  },
  {
   "cell_type": "code",
   "execution_count": null,
   "metadata": {
    "id": "ZEtsUAJ_jFwr"
   },
   "outputs": [],
   "source": [
    "a=str(input())\n",
    "b=str(input())\n",
    "d=(a==b)\n",
    "print(str(a)+\" is \"+str(b)+\"=\",c)"
   ]
  },
  {
   "cell_type": "code",
   "execution_count": null,
   "metadata": {
    "id": "OBqd8fL9jFwr"
   },
   "outputs": [],
   "source": [
    "s1=[\"Raichu\",\"pikachu\",\"muk\",\"bulbasur\",\"charizad\",\"gengar\"]\n",
    "print(s1[::4\n",
    "    ])\n",
    "print(s1[::-1])"
   ]
  },
  {
   "cell_type": "code",
   "execution_count": null,
   "metadata": {
    "id": "WzbvypOojFwr"
   },
   "outputs": [],
   "source": [
    "s2=\"sBS\"\n",
    "s2[0]\n",
    "s2[::-1]"
   ]
  },
  {
   "cell_type": "code",
   "execution_count": null,
   "metadata": {
    "id": "ofklNAmejFwr"
   },
   "outputs": [],
   "source": [
    "s1=\"Sahib[123]\"\n",
    "s1[::-1]"
   ]
  },
  {
   "cell_type": "code",
   "execution_count": null,
   "metadata": {
    "id": "G8cwhsBbjFws"
   },
   "outputs": [],
   "source": [
    "print(type(s1))"
   ]
  },
  {
   "cell_type": "code",
   "execution_count": null,
   "metadata": {
    "id": "hl4f6K4bjFws"
   },
   "outputs": [],
   "source": [
    "s1=\"pikachu\"\n",
    "s1=list(s1)\n",
    "s1[0]=\"z\"\n",
    "s1=\"\".join(s1)\n",
    "print(s1[::-1])\n",
    "s2="
   ]
  },
  {
   "cell_type": "code",
   "execution_count": null,
   "metadata": {
    "id": "TM8hbdS7jFws"
   },
   "outputs": [],
   "source": [
    "s1=[\"bob\",\"Jacob\",\"Rob\"]\n"
   ]
  },
  {
   "cell_type": "code",
   "execution_count": null,
   "metadata": {
    "id": "yUB4Z2mkjFws"
   },
   "outputs": [],
   "source": [
    "o=[[1,2,3],[61,62,69]]\n",
    "print(len(o))\n",
    "for a in o:\n",
    "    for b in a:\n",
    "        if b==3 or b==69:\n",
    "            print(b)"
   ]
  },
  {
   "cell_type": "code",
   "execution_count": null,
   "metadata": {
    "id": "qtnetEBujFws"
   },
   "outputs": [],
   "source": [
    "nk=[[\"Jenny\",\"Tom\",\"mickey\"],[\"mouse\",\"rat\",\"dog\",\"ghtyu\"]]\n",
    "for i in nk:\n",
    "    for a in i:\n",
    "        if a==\"Tom\" or a==\"rat\":\n",
    "            print(a[::-1])\n",
    "        elif a==\"dog\":\n",
    "            print(a*2)"
   ]
  },
  {
   "cell_type": "code",
   "execution_count": null,
   "metadata": {
    "id": "UzQKeQhwjFws"
   },
   "outputs": [],
   "source": [
    "z='satin'\n",
    "print(''.join(list(z)[::-1]))"
   ]
  },
  {
   "cell_type": "code",
   "execution_count": null,
   "metadata": {
    "id": "OCfvifgijFwt"
   },
   "outputs": [],
   "source": [
    "w=set([1,2,3,3,4,4,5,6])\n",
    "print(w)\n",
    "print(type(w))"
   ]
  },
  {
   "cell_type": "code",
   "execution_count": null,
   "metadata": {
    "id": "GrZ7kfxejFwt"
   },
   "outputs": [],
   "source": [
    "f=set(['A','B','C'])\n",
    "s2=set([1,2,'A','B'])\n",
    "print(f|s2)\n",
    "print(f&s2)\n",
    "print(f-s2)\n",
    "print(type(f))"
   ]
  },
  {
   "cell_type": "code",
   "execution_count": null,
   "metadata": {
    "id": "i0BjWq6zjFwt"
   },
   "outputs": [],
   "source": [
    "un=['Dhoni','Chris Crayle','Kohli','AB de villiers','Yash','Steve Smith','Dhoni','Chris','Kohli']\n",
    "lit={'Kohli':23,'Dhoni':7,'Steve Smith':89}\n",
    "for i,k in zip(list.keys(),list.values()):\n",
    "    print(i,k)\n",
    "print(list.keys())\n",
    "print(type(list.keys()))\n",
    "print(list.values())\n",
    "print(type(list.values()))"
   ]
  },
  {
   "cell_type": "code",
   "execution_count": null,
   "metadata": {
    "id": "s6a5lrFCjFwt"
   },
   "outputs": [],
   "source": [
    "ls=['Dhoni','Kohli','Chris','Ab de villiers,Yash','Steve Smith','Dhoni','Sushanth','Kohli']\n",
    "for i in ls[::-1][::-1][::-1][:4:3]:\n",
    "    print(i)\n",
    "ls1=[]\n",
    "ls=list(set(ls))\n",
    "dc1={'Kohli':23,'Dhoni':7,'Steve Smith':89}\n",
    "for i in ls:\n",
    "    if i=='Kohli' or i=='Steve Smith':\n",
    "        ls1.append(dc1[i])\n",
    "print(ls1)"
   ]
  },
  {
   "cell_type": "code",
   "execution_count": null,
   "metadata": {
    "id": "DFSmLv2wjFwt"
   },
   "outputs": [],
   "source": []
  },
  {
   "cell_type": "code",
   "execution_count": null,
   "metadata": {
    "id": "rk8rNWY6jFwu",
    "scrolled": true
   },
   "outputs": [],
   "source": [
    "ls2=[100,'600$',23,'Monday']\n",
    "for j,i in enumerate (ls2):\n",
    "    print(j+1,i)"
   ]
  },
  {
   "cell_type": "code",
   "execution_count": null,
   "metadata": {
    "id": "TutLV-ofjFwu"
   },
   "outputs": [],
   "source": [
    "s1='I Like Coffee'\n",
    "k2=[]\n",
    "for i in list(s1):\n",
    "    if i!=' ':\n",
    "        i.append(k1)\n",
    "        print(' '.join(k2))"
   ]
  },
  {
   "cell_type": "code",
   "execution_count": null,
   "metadata": {
    "id": "riLfrvrYjFwu"
   },
   "outputs": [],
   "source": [
    "dc1={'Kohli':23,'Dhoni':7,'Steve':89}\n",
    "ls_keys=[]\n",
    "ls_values=[]\n",
    "for i,j in dc1.items():\n",
    "    ls_keys.append(j)\n",
    "    ls_values.append(i)\n",
    "    dc1_rev={}\n",
    "for i,j in zip(ls_keys,ls_values):\n",
    "    dc1_rev[i]=j\n",
    "        "
   ]
  },
  {
   "cell_type": "code",
   "execution_count": null,
   "metadata": {
    "id": "JTMxD510jFwu"
   },
   "outputs": [],
   "source": [
    "s={\"Kohli\":0,\"D\":1,\"st\":3,\"kane\":6,\"v\":8}\n",
    "b=[]\n",
    "c=[]\n",
    "for i in s.values():\n",
    "    b.append(i)\n",
    "print(sum(b[::2]))"
   ]
  },
  {
   "cell_type": "code",
   "execution_count": null,
   "metadata": {
    "id": "pwtlwT9sjFwv"
   },
   "outputs": [],
   "source": [
    "s1={\"kohli\":23,\"dhoni\":69,\"kane\":68,\"jacob\":98}\n",
    "b=[]\n",
    "c=[]\n",
    "s2={23:46,69:138,68:136,98:196}\n",
    "for i in s1.values():\n",
    "    for j in s2.keys():\n",
    "            if i==j:\n",
    "                b.append(s2[j])\n",
    "print(b[::-2])\n",
    "\n",
    "    "
   ]
  },
  {
   "cell_type": "code",
   "execution_count": null,
   "metadata": {
    "id": "p1FOIzpejFwv"
   },
   "outputs": [],
   "source": [
    "l1=[1,2,3,4]\n",
    "l2=[10,20,30,40]\n",
    "for i in l1:\n",
    "    print(i)\n",
    "    for j in l2:\n",
    "        print(j)"
   ]
  },
  {
   "cell_type": "code",
   "execution_count": null,
   "metadata": {
    "id": "Laeax7m4jFwv"
   },
   "outputs": [],
   "source": [
    "ls=[[{\"cope\":23,\"town\":46,\"john\":59},{\"a\":2,\"b\":4,\"c\":3}]]\n",
    "a=[]\n",
    "b=[]\n",
    "k=ls[0]\n",
    "i=k[0]\n",
    "g=k[1]\n",
    "for f in i.values():\n",
    "    a.append(f)\n",
    "for r in g.values():\n",
    "    a.append(r)\n",
    "print(a)\n",
    "\n",
    "    \n",
    "    \n",
    "\n",
    "    "
   ]
  },
  {
   "cell_type": "code",
   "execution_count": null,
   "metadata": {
    "id": "KgBZfBZOjFwv"
   },
   "outputs": [],
   "source": [
    "ls={\"Late\":[1,2,3,4,5,6],\"John\":[{\"a\":56,\"b\":[1,2,3,4]}],\"Ron\":[1]}\n",
    "a=[]\n",
    "c=[]\n",
    "for i in ls.values():\n",
    "    a.append(i)\n",
    "print(a)\n",
    "for g in a:\n",
    "    for k in g:\n",
    "        if type(k)==dict:\n",
    "            for a,b in k.items():\n",
    "                if type(b)==list:\n",
    "                    .append(b)\n",
    "                    print(a)\n",
    "            \n"
   ]
  },
  {
   "cell_type": "code",
   "execution_count": null,
   "metadata": {
    "id": "JVh2ec0PjFwv"
   },
   "outputs": [],
   "source": [
    "ls=[1,2,3,4,5,6]\n",
    "ls2=[4,5,6,12]\n",
    "def was():\n",
    "    for i in ls:\n",
    "        print(i)\n",
    "was()"
   ]
  },
  {
   "cell_type": "code",
   "execution_count": null,
   "metadata": {
    "id": "gmVY1zP2jFww"
   },
   "outputs": [],
   "source": [
    "a=72\n",
    "b=98\n",
    "print(a,\"\\n\",\"\\t\",b,\"\\n\",a)"
   ]
  },
  {
   "cell_type": "code",
   "execution_count": null,
   "metadata": {
    "id": "fLvUYZ7vjFww"
   },
   "outputs": [],
   "source": [
    "ls=[1,2,3]\n",
    "def mn(ls):\n",
    "    return(sum(ls))\n",
    "a=sum(ls)\n",
    "print(\"Sum of numbers\",a)"
   ]
  },
  {
   "cell_type": "code",
   "execution_count": null,
   "metadata": {
    "id": "k4CzNl_MjFww"
   },
   "outputs": [],
   "source": [
    "d={\"a\":98,\"b\":2}\n",
    "def man():\n",
    "    a=[]\n",
    "    for i in d.values():\n",
    "        a.append(i)\n",
    "    return(sum(a))\n",
    "man()\n",
    "        \n"
   ]
  },
  {
   "cell_type": "code",
   "execution_count": null,
   "metadata": {
    "id": "f518JDcdjFww"
   },
   "outputs": [],
   "source": [
    "a=\"Jackson\"\n",
    "b=\"Kate\"\n",
    "d=\"1\"\n",
    "e=\"23\"\n",
    "def amr(a,b):\n",
    "    c=a+b\n",
    "    f=d+e\n",
    "    return c[::-1],f[::-1]\n",
    "amr(a,b)"
   ]
  },
  {
   "cell_type": "code",
   "execution_count": null,
   "metadata": {
    "id": "2GcyzVhMjFww"
   },
   "outputs": [],
   "source": [
    "a=15\n",
    "b=5\n",
    "def bhi(a,b):\n",
    "    c=a+b\n",
    "    d=a//b\n",
    "    return c,d\n",
    "bhi(a,b)"
   ]
  },
  {
   "cell_type": "code",
   "execution_count": null,
   "metadata": {
    "id": "qEL-f5C-jFww"
   },
   "outputs": [],
   "source": [
    "c={\"a\":[2,3,1],\"b\":[21,31,0]}\n",
    "def mn():\n",
    "    for i in c.values():\n",
    "        b=[]\n",
    "        b.append(i)\n",
    "        d=b[0]\n",
    "        f=b[1]\n",
    "        return sum(d),sum(f)\n",
    "mn(c)\n",
    "    \n",
    "    \n",
    "    "
   ]
  },
  {
   "cell_type": "code",
   "execution_count": null,
   "metadata": {
    "id": "Nej4cHyfjFwx"
   },
   "outputs": [],
   "source": [
    "c={\"a\":[2,3,1],\"b\":[21,31,0]}\n",
    "def s(ks):\n",
    "    return sum(ks[:2])\n",
    "for i in c.values():\n",
    "    print(s(i))"
   ]
  },
  {
   "cell_type": "code",
   "execution_count": null,
   "metadata": {
    "id": "iOPBCSALjFwx"
   },
   "outputs": [],
   "source": [
    "def div():\n",
    "    mn=[]\n",
    "    for i in range(0,101):\n",
    "        if i%5==0:\n",
    "            mn.append(i)\n",
    "        return\n",
    "div()\n",
    "    "
   ]
  },
  {
   "cell_type": "code",
   "execution_count": null,
   "metadata": {
    "id": "RRda-JtFjFwx"
   },
   "outputs": [],
   "source": [
    "mn=[]\n",
    "for i in range(0,101):\n",
    "        if i%5==0:\n",
    "            mn.append(i)\n",
    "print(mn)"
   ]
  },
  {
   "cell_type": "code",
   "execution_count": null,
   "metadata": {
    "id": "yr26EmOIjFwx"
   },
   "outputs": [],
   "source": [
    "result = [i for i in range(1,3+1) ]\n",
    "print([result]*3)\n",
    "\n"
   ]
  },
  {
   "cell_type": "code",
   "execution_count": null,
   "metadata": {
    "id": "yByPRPRqjFwx"
   },
   "outputs": [],
   "source": [
    "la_1=['Doreamon','Shin-Chan','oggy','Hagemar','Beyblade','Potman']\n",
    "def la(a):\n",
    "    mn=[]\n",
    "    for i in a:\n",
    "        if i==\"Bayblade\":\n",
    "            break\n",
    "        mn.append(i[-3:])\n",
    "    return mn\n",
    "la(la_1)\n"
   ]
  },
  {
   "cell_type": "code",
   "execution_count": null,
   "metadata": {
    "id": "KKkdgiivjFwy"
   },
   "outputs": [],
   "source": [
    "a=\"[{'Sahib':12}]\"\n",
    "import ast\n",
    "a=ast.literal_eval(a)\n",
    "print(type(a))\n",
    "print(type(a[0]))\n",
    "print(a[0])"
   ]
  },
  {
   "cell_type": "code",
   "execution_count": null,
   "metadata": {
    "id": "Bgyu5VrMjFwy",
    "scrolled": true
   },
   "outputs": [],
   "source": [
    "import turtle\n",
    "\n",
    "s=turtle.Turtle()\n",
    "for i in range(200):\n",
    "    s.forward(270)\n",
    "    s.right(4)\n",
    "    s.left(90)\n",
    "turtle.done()"
   ]
  },
  {
   "cell_type": "code",
   "execution_count": null,
   "metadata": {
    "id": "doDvMVnljFwy"
   },
   "outputs": [],
   "source": [
    "jul=[\"Jerry\",\"Katty\",\"['tom']\"]\n",
    "for i in jul:\n",
    "    print(i)\n",
    "    for j in i:\n",
    "        if j==list:\n",
    "            print(j)"
   ]
  },
  {
   "cell_type": "code",
   "execution_count": null,
   "metadata": {
    "id": "zpY0gJKYjFw0"
   },
   "outputs": [],
   "source": [
    "gif={\"PS4\":28000,\"Diary Milk\":100,\"iphone\":80000,\"Bluetooth\":1500,\"Laptop\":100000}\n",
    "def gift(d):\n",
    "    a=int(input(\"ENter your age\"))\n",
    "    if a>18:\n",
    "        print(\"You are eligible to vote\")\n",
    "        b=input(\"Please enter your gift\")\n",
    "        c=gif[b]\n",
    "        if (b,c) in d.items():\n",
    "            \n",
    "            print(\"Your gift will be delivered and it costs you around:\",c)\n",
    "        else:\n",
    "            print(\"invalid\")\n",
    "    else:\n",
    "        print(\"not eligible\")\n",
    "    return gift(gif)\n",
    "gift(gif)"
   ]
  },
  {
   "cell_type": "code",
   "execution_count": null,
   "metadata": {
    "id": "0p6qgFCejFw1"
   },
   "outputs": [],
   "source": [
    "a=input(\"please enter length\")\n",
    "b=input(\"please enter breadth\")\n",
    "a=int(a)\n",
    "b=int(b)\n",
    "def area(a,b):\n",
    "    c=a*b\n",
    "    d=2*(a+b)\n",
    "    print(\"area is:\",c)\n",
    "    print(\"perimeter is:\",d)\n",
    "    def table(c): \n",
    "        if c>500:\n",
    "            for i in range(1,11):\n",
    "                print(a,\"x\",i,\"=\",a*i)\n",
    "            for f in range(a*10,a*20,a+1):\n",
    "                print(f)\n",
    "        elif c<500:\n",
    "            for g in range(1,11):\n",
    "                print(b,\"x\",g,\"=\",b*g)\n",
    "            \n",
    "            \n",
    "    table(c)\n",
    "area(a,b)\n",
    "        \n",
    "        \n",
    "            \n",
    "                \n",
    "            "
   ]
  },
  {
   "cell_type": "code",
   "execution_count": null,
   "metadata": {
    "id": "_nlphaxujFw1"
   },
   "outputs": [],
   "source": [
    "a=[[[{\"jack\":20,\"sparrow\":60}],[{\"boys\":60,\"bunny\":30}],[[3600,-3600]]]]\n",
    "mn=[]\n",
    "n=[]\n",
    "for i in a:\n",
    "        for j in i:\n",
    "            for k in j:\n",
    "                if type(k)==list:\n",
    "                    mn.append(k)\n",
    "                if type(k)==dict:\n",
    "                    mn.append(k.values())\n",
    "    \n",
    "b=sum(mn[0])\n",
    "n.append(b)\n",
    "c=sum(mn[1])\n",
    "n.append(c) \n",
    "d=sum(mn[2])\n",
    "n.append(d)\n",
    "print(n)\n",
    "\n",
    "\n",
    "                "
   ]
  },
  {
   "cell_type": "code",
   "execution_count": null,
   "metadata": {
    "id": "irHLTp-fjFw1"
   },
   "outputs": [],
   "source": [
    "a={\"Flowers\":[2,200],\"Skincare\":[3,3000],\"Electronics\":[2,500],\"Clothes\":[3,4500]}\n",
    "a[\"JAvvaji\"]=20\n",
    "print(a)\n",
    "b=input(\"ITEM ENTRY??\")\n",
    "mn=a[b]\n",
    "t=mn[0]\n",
    "g=mn[1]\n",
    "f=g/t\n",
    "c=input(\"Command\")\n",
    "if c==\"Decrease the price\":\n",
    "    if b==\"Clothes\":\n",
    "        f=f-100\n",
    "        print(\"100 rupees off and the final price is\",f)\n",
    "        d=input(\"Please enter your gender\")\n",
    "        if d==\"Girl\":\n",
    "            \n",
    "            print(\"you ar eentitled for extra off of 60%\",f+0.6*f)\n",
    "        elif d==\"boy\":\n",
    "            print(\"\")\n",
    "else:\n",
    "    print(f)\n",
    "\n"
   ]
  },
  {
   "cell_type": "code",
   "execution_count": null,
   "metadata": {
    "id": "5N71GEQzjFw1",
    "outputId": "b75b2f4e-ed46-40ce-d8ed-ce7c61b72d09"
   },
   "outputs": [
    {
     "name": "stdout",
     "output_type": "stream",
     "text": [
      "{'Flowers': [2, 200], 'Skincare': [3, 3000], 'Electronics': [2, 500], 'Clothes': [3, 4500], 'JAvvaji': 20}\n"
     ]
    }
   ],
   "source": [
    "a={\"Flowers\":[2,200],\"Skincare\":[3,3000],\"Electronics\":[2,500],\"Clothes\":[3,4500]}\n",
    "a[\"JAvvaji\"]=20\n",
    "print"
   ]
  },
  {
   "cell_type": "code",
   "execution_count": null,
   "metadata": {
    "colab": {
     "base_uri": "https://localhost:8080/"
    },
    "id": "bkfBptGMjFw2",
    "outputId": "2b944331-517c-4b69-a2d9-ade2216dd2fe"
   },
   "outputs": [
    {
     "name": "stdout",
     "output_type": "stream",
     "text": [
      "(1, 5)\n",
      "(1, 2)\n"
     ]
    },
    {
     "name": "stderr",
     "output_type": "stream",
     "text": [
      "/usr/local/lib/python3.7/dist-packages/ipykernel_launcher.py:9: VisibleDeprecationWarning: Creating an ndarray from ragged nested sequences (which is a list-or-tuple of lists-or-tuples-or ndarrays with different lengths or shapes) is deprecated. If you meant to do this, you must specify 'dtype=object' when creating the ndarray.\n",
      "  if __name__ == '__main__':\n"
     ]
    }
   ],
   "source": [
    "import numpy as np\n",
    "a=np.array([1,2,3,4])\n",
    "b=[1,2,3,4]\n",
    "a1=np.array([[1,2,3,4]])\n",
    "a1=a1\n",
    "b=np.array([[1,2,3,4],[5,6,7,8]])\n",
    "b1=b.T.T[0,:2]\n",
    "a2=np.array([[1,2,3,4,5]])\n",
    "a3=np.array([[[1,2,3,4],[1,221,21]]])\n",
    "print(a2.shape)\n",
    "print(a3.shape)\n"
   ]
  },
  {
   "cell_type": "code",
   "execution_count": 3,
   "metadata": {
    "id": "EbFXn8YNjFw2"
   },
   "outputs": [],
   "source": [
    "def age_maker( age):\n",
    "  if age>18:\n",
    "    return \"eligible for voting\"\n",
    "  else:\n",
    "    return \"not\"\n",
    "age_maker( 22)\n",
    "\n",
    "def phone_maker(ph):\n",
    "  ph=str(ph)\n",
    "  if ph[0]==8:\n",
    "    return \"starts with 8\"\n",
    "  else:\n",
    "    return \"not starts with 8\"\n",
    "    \n",
    "\n",
    "def python_maker(p_marks):\n",
    "  if p_marks>50:\n",
    "    return \"pass\"\n",
    "  else:\n",
    "    return \"fail\"   "
   ]
  },
  {
   "cell_type": "code",
   "execution_count": 1,
   "metadata": {
    "id": "vHi63WQ0jFw3"
   },
   "outputs": [
    {
     "ename": "NameError",
     "evalue": "name 'self' is not defined",
     "output_type": "error",
     "traceback": [
      "\u001b[1;31m---------------------------------------------------------------------------\u001b[0m",
      "\u001b[1;31mNameError\u001b[0m                                 Traceback (most recent call last)",
      "\u001b[1;32m~\\AppData\\Local\\Temp\\ipykernel_1680\\932243347.py\u001b[0m in \u001b[0;36m<module>\u001b[1;34m\u001b[0m\n\u001b[0;32m     22\u001b[0m       \u001b[1;32melse\u001b[0m\u001b[1;33m:\u001b[0m\u001b[1;33m\u001b[0m\u001b[1;33m\u001b[0m\u001b[0m\n\u001b[0;32m     23\u001b[0m         \u001b[1;32mreturn\u001b[0m \u001b[1;34m\"fail\"\u001b[0m\u001b[1;33m\u001b[0m\u001b[1;33m\u001b[0m\u001b[0m\n\u001b[1;32m---> 24\u001b[1;33m \u001b[0mmounik\u001b[0m\u001b[1;33m=\u001b[0m\u001b[0mlpu_student\u001b[0m\u001b[1;33m(\u001b[0m\u001b[0mself\u001b[0m\u001b[1;33m,\u001b[0m\u001b[0mage\u001b[0m\u001b[1;33m)\u001b[0m\u001b[1;33m\u001b[0m\u001b[1;33m\u001b[0m\u001b[0m\n\u001b[0m\u001b[0;32m     25\u001b[0m \u001b[0mmounik\u001b[0m\u001b[1;33m.\u001b[0m\u001b[0mage_maker\u001b[0m\u001b[1;33m(\u001b[0m\u001b[1;33m)\u001b[0m\u001b[1;33m\u001b[0m\u001b[1;33m\u001b[0m\u001b[0m\n\u001b[0;32m     26\u001b[0m \u001b[1;33m\u001b[0m\u001b[0m\n",
      "\u001b[1;31mNameError\u001b[0m: name 'self' is not defined"
     ]
    }
   ],
   "source": [
    "class lpu_student:\n",
    "  def details(self):\n",
    "  #def __init__(self,age,ph,p_marks):\n",
    "    #self.age=age\n",
    "    #self.ph=ph\n",
    "    #self.p_marks=p_marks\n",
    "    def age_maker( age):\n",
    "      if age>18:\n",
    "        return \"eligible for voting\"\n",
    "      else:\n",
    "        return \"not\"\n",
    "    def phone_maker(ph):\n",
    "      ph=str(ph)\n",
    "      if ph[0]==8:\n",
    "        return \"starts with 8\"\n",
    "      else:\n",
    "        return \"not starts with 8\"\n",
    "\n",
    "    def python_maker(p_marks):\n",
    "      if p_marks>50:\n",
    "        return \"pass\"\n",
    "      else:\n",
    "        return \"fail\"   \n",
    "mounik=lpu_student(self,age)\n",
    "mounik.age_maker()\n",
    "    \n"
   ]
  },
  {
   "cell_type": "code",
   "execution_count": 4,
   "metadata": {},
   "outputs": [
    {
     "name": "stdout",
     "output_type": "stream",
     "text": [
      "helo world\n"
     ]
    }
   ],
   "source": [
    "print(\"helo world\")"
   ]
  },
  {
   "cell_type": "code",
   "execution_count": 1,
   "metadata": {
    "id": "0PnTqXXIjFw3"
   },
   "outputs": [],
   "source": [
    "class LPU_students:\n",
    "  def details(self):\n",
    "  #def _init_(self,age,ph,p_marks):\n",
    "    #self.age=age\n",
    "    #self.ph=ph\n",
    "    #self.ph_marks=p_marks\n",
    "    def age_maker(age):\n",
    "      if age>18:\n",
    "        return \"eligible for voting\"\n",
    "      else:\n",
    "        return \"Not eligible\"\n",
    "\n",
    "    def phone_maker(ph):\n",
    "      ph=str(ph)\n",
    "      if ph[0]==8:\n",
    "        return \"starts with 8\"\n",
    "      else:\n",
    "        return \"not starts with 8\" \n",
    "\n",
    "    def python_maker(p_marks):\n",
    "      if p_marks>=50:\n",
    "        return \"passed\"\n",
    "      else:\n",
    "        return \"Failed\"\n",
    "tharun=LPU_students()\n",
    "sharan=LPU_students()        \n",
    "varun=LPU_students()\n",
    "varun.phone_maker=6303862324\n",
    "varun.age_maker=23\n"
   ]
  },
  {
   "cell_type": "code",
   "execution_count": 2,
   "metadata": {},
   "outputs": [
    {
     "ename": "TypeError",
     "evalue": "avg() takes 3 positional arguments but 4 were given",
     "output_type": "error",
     "traceback": [
      "\u001b[1;31m---------------------------------------------------------------------------\u001b[0m",
      "\u001b[1;31mTypeError\u001b[0m                                 Traceback (most recent call last)",
      "\u001b[1;32m~\\AppData\\Local\\Temp\\ipykernel_2272\\1133842939.py\u001b[0m in \u001b[0;36m<module>\u001b[1;34m\u001b[0m\n\u001b[0;32m      3\u001b[0m     \u001b[1;32mreturn\u001b[0m \u001b[0mruns\u001b[0m\u001b[1;33m/\u001b[0m\u001b[0mballs\u001b[0m\u001b[1;33m\u001b[0m\u001b[1;33m\u001b[0m\u001b[0m\n\u001b[0;32m      4\u001b[0m \u001b[0mmoris\u001b[0m\u001b[1;33m=\u001b[0m\u001b[0mIpl\u001b[0m\u001b[1;33m(\u001b[0m\u001b[1;33m)\u001b[0m\u001b[1;33m\u001b[0m\u001b[1;33m\u001b[0m\u001b[0m\n\u001b[1;32m----> 5\u001b[1;33m \u001b[0mmoris\u001b[0m\u001b[1;33m.\u001b[0m\u001b[0mavg\u001b[0m\u001b[1;33m(\u001b[0m\u001b[1;36m1\u001b[0m\u001b[1;33m,\u001b[0m\u001b[1;36m2\u001b[0m\u001b[1;33m,\u001b[0m\u001b[1;36m6\u001b[0m\u001b[1;33m)\u001b[0m\u001b[1;33m\u001b[0m\u001b[1;33m\u001b[0m\u001b[0m\n\u001b[0m",
      "\u001b[1;31mTypeError\u001b[0m: avg() takes 3 positional arguments but 4 were given"
     ]
    }
   ],
   "source": [
    "class Ipl:\n",
    "  def avg(self,runs,balls):\n",
    "    return runs/balls\n",
    "moris=Ipl()    \n",
    "moris.avg(2,6)\n"
   ]
  },
  {
   "cell_type": "code",
   "execution_count": 5,
   "metadata": {},
   "outputs": [
    {
     "ename": "IndentationError",
     "evalue": "expected an indented block (2597964311.py, line 2)",
     "output_type": "error",
     "traceback": [
      "\u001b[1;36m  File \u001b[1;32m\"C:\\Users\\neelu\\AppData\\Local\\Temp\\ipykernel_8148\\2597964311.py\"\u001b[1;36m, line \u001b[1;32m2\u001b[0m\n\u001b[1;33m    def bite(self,dog,age):\u001b[0m\n\u001b[1;37m                           ^\u001b[0m\n\u001b[1;31mIndentationError\u001b[0m\u001b[1;31m:\u001b[0m expected an indented block\n"
     ]
    }
   ],
   "source": [
    "class city:\n",
    "  def start(self,c):\n",
    "    if c[0]==\"A\":\n",
    "      return \"yes\"\n",
    "    else:\n",
    "     return \"Not Starts with A\"\n",
    "  def food(self,c):\n",
    "    a={\"Alwar\":\"milkcake\",\"Kochi\":\"porotta\",\"Hyderabad\":\"Biryani\",\"Agra\":\"Petha\"}\n",
    "    return dict(c)\n",
    "\n",
    "\n",
    "\n",
    "Agra=city()\n",
    "Kochi=city()\n",
    "Hyderabad=city()\n",
    "Agra=city()\n",
    "Agra.start(\"Agra\")"
   ]
  },
  {
   "cell_type": "code",
   "execution_count": null,
   "metadata": {},
   "outputs": [],
   "source": [
    "class city:\n",
    "  def start(self,s):\n",
    "    if s[0]==\"a\":\n",
    "      return \"yes\"\n",
    "  def city_name(self,dish):\n",
    "    k={\"alwar\":\"mikcake\",\"kochi\":\"porotta\",\"hyb\":\"biryani\",\"agra\":\"petha\"}\n",
    "    return k[dish]\n",
    "  def city_direction(self,dir):\n",
    "    l={\"kochi\":\"sw\",\"hyb\":\"se\",\"alwar\":\"nw\",\"agra\":\"ne\"}\n",
    "    return l[dir] \n",
    "alwar=city()\n",
    "print(alwar.start(\"alwal\"))\n",
    "print(alwar.city_name(\"alwar\"))\n",
    "print(alwar.city_direction(\"alwar\"))"
   ]
  }
 ],
 "metadata": {
  "colab": {
   "collapsed_sections": [
    "H9OQMgGdjFwp"
   ],
   "provenance": []
  },
  "kernelspec": {
   "display_name": "Python 3.9.13 ('base')",
   "language": "python",
   "name": "python3"
  },
  "language_info": {
   "codemirror_mode": {
    "name": "ipython",
    "version": 3
   },
   "file_extension": ".py",
   "mimetype": "text/x-python",
   "name": "python",
   "nbconvert_exporter": "python",
   "pygments_lexer": "ipython3",
   "version": "3.9.13"
  },
  "vscode": {
   "interpreter": {
    "hash": "ad2bdc8ecc057115af97d19610ffacc2b4e99fae6737bb82f5d7fb13d2f2c186"
   }
  }
 },
 "nbformat": 4,
 "nbformat_minor": 1
}
