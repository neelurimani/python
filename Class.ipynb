{
 "cells": [
  {
   "cell_type": "code",
   "execution_count": null,
   "metadata": {},
   "outputs": [],
   "source": [
    "a=19\n",
    "b=17\n",
    "if(a>18)and(b>18):\n",
    " print(\"Let them in\")\n",
    "elif a>18 and b<18:\n",
    " print(\"let person a be in\")\n",
    "elif a<18 and b>18:\n",
    " print(\"let person b be in\")\n",
    "else:\n",
    " print(\"Dont let them in\")"
   ]
  },
  {
   "cell_type": "code",
   "execution_count": null,
   "metadata": {},
   "outputs": [],
   "source": [
    "tup_var=('a','b',1,2,0,3)\n",
    "print(tup_var)\n",
    "print(type(tup_var))"
   ]
  },
  {
   "cell_type": "code",
   "execution_count": null,
   "metadata": {},
   "outputs": [],
   "source": [
    "tup_var=('a','b',1,2,3,[1,2,3],(1,2))\n",
    "print(tup_var)\n",
    "type(list(tup_var))\n",
    "tp=list(tup_var)\n",
    "print(tp)"
   ]
  },
  {
   "cell_type": "code",
   "execution_count": null,
   "metadata": {},
   "outputs": [],
   "source": [
    "dict_type={1 ,2 ,3}\n",
    "print(dict_type)\n",
    "print(type(dict_type))"
   ]
  },
  {
   "cell_type": "code",
   "execution_count": null,
   "metadata": {},
   "outputs": [],
   "source": [
    "lst_man=[1,2,2,2,3,3,5,8,9,9]\n",
    "print(lst_man)\n",
    "result=set(lst_man)\n",
    "tp=list(result)\n",
    "print(result)"
   ]
  },
  {
   "cell_type": "code",
   "execution_count": null,
   "metadata": {},
   "outputs": [],
   "source": [
    "lst_mn=[1,2,3,4,5,6,7,]\n",
    "print(\"The number of items in the list are:\",len(lst_mn))\n",
    "print(\"The greatest number in the list is:\",max(lst_mn))\n",
    "print(\"sum of all elements in the list is:\",sum(lst_mn))"
   ]
  },
  {
   "cell_type": "code",
   "execution_count": null,
   "metadata": {},
   "outputs": [],
   "source": [
    "a=1\n",
    "while a<100:\n",
    "    a=a+1\n",
    "print(\"loop complete:\",a)"
   ]
  },
  {
   "cell_type": "code",
   "execution_count": null,
   "metadata": {},
   "outputs": [],
   "source": [
    "a=1\n",
    "for elem in lst_var:\n",
    "    a+=1\n",
    "print(a) "
   ]
  },
  {
   "cell_type": "code",
   "execution_count": null,
   "metadata": {},
   "outputs": [],
   "source": [
    "lst_var=['Delhi','banglore','chennai','mumbai','kochin']\n",
    "if 'Delhi' in lst_var:\n",
    "    print(\"yes it is there\")\n",
    "else:\n",
    "    print(\"not in the list\")"
   ]
  },
  {
   "cell_type": "code",
   "execution_count": null,
   "metadata": {},
   "outputs": [],
   "source": [
    "lst_var=[23,45,67,89,91,41,89,79,25,67]\n",
    "print(list(sorted(lst_var,reverse=True)))\n",
    "lst_var.sort()"
   ]
  },
  {
   "cell_type": "code",
   "execution_count": null,
   "metadata": {},
   "outputs": [],
   "source": [
    "print(lst_var)"
   ]
  },
  {
   "cell_type": "code",
   "execution_count": null,
   "metadata": {},
   "outputs": [],
   "source": [
    "allowed_input=[1,2,3,4,6,'w','wd','n']"
   ]
  },
  {
   "cell_type": "code",
   "execution_count": null,
   "metadata": {},
   "outputs": [],
   "source": []
  },
  {
   "cell_type": "code",
   "execution_count": null,
   "metadata": {},
   "outputs": [],
   "source": [
    "input=1"
   ]
  },
  {
   "cell_type": "code",
   "execution_count": null,
   "metadata": {},
   "outputs": [],
   "source": [
    "input=2\n"
   ]
  },
  {
   "cell_type": "code",
   "execution_count": null,
   "metadata": {},
   "outputs": [],
   "source": [
    "x=8\n",
    "x='hello'\n",
    "print(x)"
   ]
  },
  {
   "cell_type": "code",
   "execution_count": null,
   "metadata": {},
   "outputs": [],
   "source": [
    "x=1\n",
    "print(x)"
   ]
  },
  {
   "cell_type": "code",
   "execution_count": null,
   "metadata": {},
   "outputs": [],
   "source": [
    "mani=[1,2]"
   ]
  },
  {
   "cell_type": "code",
   "execution_count": null,
   "metadata": {},
   "outputs": [],
   "source": [
    "mani"
   ]
  },
  {
   "cell_type": "code",
   "execution_count": null,
   "metadata": {},
   "outputs": [],
   "source": [
    "y=2\n",
    "x,y"
   ]
  },
  {
   "cell_type": "code",
   "execution_count": null,
   "metadata": {},
   "outputs": [],
   "source": [
    "5+6\n"
   ]
  },
  {
   "cell_type": "code",
   "execution_count": null,
   "metadata": {},
   "outputs": [],
   "source": [
    "11111111111111111111111111111111111111111111111111111111111111111111111111111111111111111111111111111111111111111111111111111111111111111111111111+999999999999999999999999999999999999999999999999999999999999999999999999999999999999999999999999999999999999999999999999999999999999999999999999999999999999999999999999"
   ]
  },
  {
   "cell_type": "code",
   "execution_count": null,
   "metadata": {},
   "outputs": [],
   "source": [
    "10//3"
   ]
  },
  {
   "cell_type": "code",
   "execution_count": null,
   "metadata": {},
   "outputs": [],
   "source": [
    "10$3"
   ]
  },
  {
   "cell_type": "code",
   "execution_count": null,
   "metadata": {},
   "outputs": [],
   "source": [
    "10%3"
   ]
  },
  {
   "cell_type": "code",
   "execution_count": null,
   "metadata": {},
   "outputs": [],
   "source": [
    "list=[1]"
   ]
  },
  {
   "cell_type": "code",
   "execution_count": null,
   "metadata": {},
   "outputs": [],
   "source": [
    "print(list)"
   ]
  },
  {
   "cell_type": "code",
   "execution_count": null,
   "metadata": {},
   "outputs": [],
   "source": [
    "mn='hello'\n",
    "print(mn)"
   ]
  },
  {
   "cell_type": "code",
   "execution_count": null,
   "metadata": {},
   "outputs": [],
   "source": [
    "mn=[\"12\"]\n",
    "print(mn)"
   ]
  },
  {
   "cell_type": "code",
   "execution_count": null,
   "metadata": {},
   "outputs": [],
   "source": [
    "a=\"mn\"\n",
    "print(a)"
   ]
  },
  {
   "cell_type": "code",
   "execution_count": null,
   "metadata": {},
   "outputs": [],
   "source": [
    "m=5\n",
    "n=7\n",
    "m,n"
   ]
  },
  {
   "cell_type": "code",
   "execution_count": null,
   "metadata": {},
   "outputs": [],
   "source": [
    "m+n"
   ]
  },
  {
   "cell_type": "code",
   "execution_count": null,
   "metadata": {},
   "outputs": [],
   "source": [
    "m/n"
   ]
  },
  {
   "cell_type": "code",
   "execution_count": null,
   "metadata": {},
   "outputs": [],
   "source": [
    "5//5"
   ]
  },
  {
   "cell_type": "code",
   "execution_count": null,
   "metadata": {},
   "outputs": [],
   "source": [
    "5%5"
   ]
  },
  {
   "cell_type": "code",
   "execution_count": null,
   "metadata": {},
   "outputs": [],
   "source": [
    "m==6"
   ]
  },
  {
   "cell_type": "code",
   "execution_count": null,
   "metadata": {},
   "outputs": [],
   "source": [
    "m==9,n==5"
   ]
  },
  {
   "cell_type": "code",
   "execution_count": null,
   "metadata": {},
   "outputs": [],
   "source": [
    "true+flase"
   ]
  },
  {
   "cell_type": "code",
   "execution_count": null,
   "metadata": {},
   "outputs": [],
   "source": [
    "True+False"
   ]
  },
  {
   "cell_type": "code",
   "execution_count": null,
   "metadata": {},
   "outputs": [],
   "source": [
    "m!=6"
   ]
  },
  {
   "cell_type": "code",
   "execution_count": null,
   "metadata": {},
   "outputs": [],
   "source": [
    "mn=False\n",
    "mn+1"
   ]
  },
  {
   "cell_type": "code",
   "execution_count": null,
   "metadata": {},
   "outputs": [],
   "source": [
    "x=22\n",
    "a=0\n",
    "b=1\n",
    "c=2\n",
    "if x<25:\n",
    "    a=0\n",
    "    b=100\n",
    "a,b"
   ]
  },
  {
   "cell_type": "code",
   "execution_count": null,
   "metadata": {},
   "outputs": [],
   "source": [
    "a=str(1)\n",
    "print(type(a))"
   ]
  },
  {
   "cell_type": "code",
   "execution_count": null,
   "metadata": {},
   "outputs": [],
   "source": [
    "neel=5\n",
    "if neel>1:\n",
    "    result=5\n",
    "else:\n",
    "    result=7\n",
    "result\n"
   ]
  },
  {
   "cell_type": "code",
   "execution_count": null,
   "metadata": {},
   "outputs": [],
   "source": []
  },
  {
   "cell_type": "code",
   "execution_count": null,
   "metadata": {},
   "outputs": [],
   "source": [
    "mnn=0\n",
    "if mnn>0:\n",
    "    result='yes'\n",
    "elif mnn<0:\n",
    "    result='nnn'\n",
    "else:\n",
    "    reslt='no'\n",
    "result"
   ]
  },
  {
   "cell_type": "code",
   "execution_count": null,
   "metadata": {},
   "outputs": [],
   "source": [
    "po=5.1\n",
    "if po>=5:\n",
    "    if po<6:\n",
    "        bm=\"np\"\n",
    "else:\n",
    "    bm=\"uj\"\n",
    "bm"
   ]
  },
  {
   "cell_type": "code",
   "execution_count": null,
   "metadata": {},
   "outputs": [],
   "source": [
    "5%5"
   ]
  },
  {
   "cell_type": "code",
   "execution_count": null,
   "metadata": {},
   "outputs": [],
   "source": [
    "5//4"
   ]
  },
  {
   "cell_type": "code",
   "execution_count": null,
   "metadata": {},
   "outputs": [],
   "source": [
    "a=1\n",
    "b=5\n",
    "if a+b>6:\n",
    "    print(\"true\")\n",
    "else:\n",
    "    print(\"false\")\n"
   ]
  },
  {
   "cell_type": "code",
   "execution_count": null,
   "metadata": {},
   "outputs": [],
   "source": [
    "mn=[1,2,3,4,5,6,7,8]\n",
    "mn[0:5:3]"
   ]
  },
  {
   "cell_type": "code",
   "execution_count": null,
   "metadata": {},
   "outputs": [],
   "source": [
    "mn[1]"
   ]
  },
  {
   "cell_type": "code",
   "execution_count": null,
   "metadata": {},
   "outputs": [],
   "source": [
    "mn[:]"
   ]
  },
  {
   "cell_type": "code",
   "execution_count": null,
   "metadata": {},
   "outputs": [],
   "source": [
    "jui=12\n",
    "jui"
   ]
  },
  {
   "cell_type": "code",
   "execution_count": null,
   "metadata": {},
   "outputs": [],
   "source": [
    "print(id(jui))"
   ]
  },
  {
   "cell_type": "code",
   "execution_count": null,
   "metadata": {},
   "outputs": [],
   "source": [
    "input()"
   ]
  },
  {
   "cell_type": "code",
   "execution_count": null,
   "metadata": {},
   "outputs": [],
   "source": [
    "ip=input()"
   ]
  },
  {
   "cell_type": "code",
   "execution_count": null,
   "metadata": {},
   "outputs": [],
   "source": [
    "print(ip)"
   ]
  },
  {
   "cell_type": "code",
   "execution_count": null,
   "metadata": {},
   "outputs": [],
   "source": [
    "print(type(ip))"
   ]
  },
  {
   "cell_type": "code",
   "execution_count": null,
   "metadata": {},
   "outputs": [],
   "source": [
    "mn=input()\n"
   ]
  },
  {
   "cell_type": "code",
   "execution_count": null,
   "metadata": {},
   "outputs": [],
   "source": [
    "print(int(mn))"
   ]
  },
  {
   "cell_type": "code",
   "execution_count": null,
   "metadata": {},
   "outputs": [],
   "source": [
    "a=[5]\n",
    "a.append(\"mani\")\n",
    "print(a)"
   ]
  },
  {
   "cell_type": "code",
   "execution_count": null,
   "metadata": {},
   "outputs": [],
   "source": [
    "ftu=[12,\"man\",'nj']\n",
    "print(type(ftu))\n",
    "nij=('mn',ftu)\n",
    "print(nij)"
   ]
  },
  {
   "cell_type": "code",
   "execution_count": null,
   "metadata": {},
   "outputs": [],
   "source": [
    "adt={'mn','nu','nu','mn','ju',52}\n",
    "adt"
   ]
  },
  {
   "cell_type": "code",
   "execution_count": null,
   "metadata": {},
   "outputs": [],
   "source": [
    "marks={\"A\":92,\"B\":52,\"C\":25}\n",
    "marks[\"A\"]"
   ]
  },
  {
   "cell_type": "code",
   "execution_count": null,
   "metadata": {},
   "outputs": [],
   "source": [
    "age=int(input(\"Please enter your age\"))\n",
    "if age>=5:\n",
    "    print(\"he is greater than 18\")\n",
    "else:\n",
    "    print(\"not greater than 18\")"
   ]
  },
  {
   "cell_type": "code",
   "execution_count": null,
   "metadata": {},
   "outputs": [],
   "source": [
    "a=\"0\"\n",
    "print(type(a))\n",
    "a=int(a)\n",
    "print(type(a))"
   ]
  },
  {
   "cell_type": "code",
   "execution_count": null,
   "metadata": {},
   "outputs": [],
   "source": [
    "name=input(\"Please enter your name\")\n",
    "age=input(\"Enter your age\")\n",
    "print(name,age)\n",
    "print(name,age,sep=\"##\")\n",
    "print(name,age,sep=\"##\",end=\"&&\")\n",
    "print(\"we are done\")"
   ]
  },
  {
   "cell_type": "code",
   "execution_count": null,
   "metadata": {},
   "outputs": [],
   "source": [
    "marks=33\n",
    "print(type(marks))\n",
    "print(marks)\n",
    "marks=float(marks)\n",
    "print(type(marks))\n",
    "print(marks)"
   ]
  },
  {
   "cell_type": "code",
   "execution_count": null,
   "metadata": {},
   "outputs": [],
   "source": [
    "mark=[1,2,3,3,3,4,5]\n",
    "print(type(mark))\n",
    "print(mark)\n",
    "mark=set(mark)\n",
    "print(type(mark))\n",
    "print(mark)\n"
   ]
  },
  {
   "cell_type": "code",
   "execution_count": null,
   "metadata": {},
   "outputs": [],
   "source": [
    "5**2"
   ]
  },
  {
   "cell_type": "code",
   "execution_count": null,
   "metadata": {},
   "outputs": [],
   "source": [
    "25**4\n"
   ]
  },
  {
   "cell_type": "code",
   "execution_count": null,
   "metadata": {},
   "outputs": [],
   "source": [
    "print(25*4)"
   ]
  },
  {
   "cell_type": "code",
   "execution_count": null,
   "metadata": {},
   "outputs": [],
   "source": [
    "print(25**4)"
   ]
  },
  {
   "cell_type": "code",
   "execution_count": null,
   "metadata": {},
   "outputs": [],
   "source": [
    "(25*4)/4-5"
   ]
  },
  {
   "cell_type": "code",
   "execution_count": null,
   "metadata": {},
   "outputs": [],
   "source": [
    "25*4/8//9-8"
   ]
  },
  {
   "cell_type": "code",
   "execution_count": null,
   "metadata": {},
   "outputs": [],
   "source": [
    "8/4"
   ]
  },
  {
   "cell_type": "code",
   "execution_count": null,
   "metadata": {},
   "outputs": [],
   "source": []
  },
  {
   "cell_type": "code",
   "execution_count": null,
   "metadata": {},
   "outputs": [],
   "source": [
    "9%5"
   ]
  },
  {
   "cell_type": "markdown",
   "metadata": {},
   "source": []
  },
  {
   "cell_type": "code",
   "execution_count": null,
   "metadata": {},
   "outputs": [],
   "source": [
    "25//4"
   ]
  },
  {
   "cell_type": "code",
   "execution_count": null,
   "metadata": {},
   "outputs": [],
   "source": [
    "25/4"
   ]
  },
  {
   "cell_type": "code",
   "execution_count": null,
   "metadata": {},
   "outputs": [],
   "source": [
    "20//3"
   ]
  },
  {
   "cell_type": "code",
   "execution_count": null,
   "metadata": {},
   "outputs": [],
   "source": [
    "a=5\n",
    "a+=1"
   ]
  },
  {
   "cell_type": "code",
   "execution_count": null,
   "metadata": {},
   "outputs": [],
   "source": [
    "a=18\n",
    "t=8\n",
    "print(not a>18)\n",
    "\n",
    "r=19\n",
    "print(not((a>=18 and r>=19)or t>15))"
   ]
  },
  {
   "cell_type": "code",
   "execution_count": null,
   "metadata": {},
   "outputs": [],
   "source": [
    "d=5\n",
    "n=5\n",
    "d!=n"
   ]
  },
  {
   "cell_type": "code",
   "execution_count": null,
   "metadata": {},
   "outputs": [],
   "source": [
    "j=[1,2,3,4,5]\n",
    "if 2 in j:\n",
    "    print(\"yes\")\n",
    "else:\n",
    "    print(\"no\")"
   ]
  },
  {
   "cell_type": "code",
   "execution_count": null,
   "metadata": {},
   "outputs": [],
   "source": [
    "i=input(\"what Happend?\")\n",
    "allowed_input=['1','2','3','4','6','wd','wkt']\n",
    "valid_ip=False\n",
    "\n",
    "if i in allowed_input:\n",
    "    if i=='1':\n",
    "        print(\"only one run\")\n",
    "    elif i=='2':\n",
    "         print(\"runner for 2 runs\")\n",
    "elif i in allowed_input=='3':\n",
    "    print(\"hurray its three runs\")\n",
    "elif i in allowed_input=='4':\n",
    "    print(\"its a four on the board\")\n",
    "elif i in allowed_input=='6':\n",
    "    print(\"its a sixer\")\n",
    "elif i in allowed_input=='wd':\n",
    "    print(\"its a wide\")\n",
    "elif i in allowed_input=='wkt':\n",
    "    print(\"its a wicket\")\n",
    "else:\n",
    "    pass\n",
    "    \n",
    "    \n",
    "    \n",
    "    \n",
    "    \n",
    "\n"
   ]
  },
  {
   "cell_type": "code",
   "execution_count": null,
   "metadata": {},
   "outputs": [],
   "source": [
    "ma=\"this.is.september\"\n",
    "ma.split(\".\")"
   ]
  },
  {
   "cell_type": "code",
   "execution_count": null,
   "metadata": {},
   "outputs": [],
   "source": [
    "lst=[1,2,3,4,5]\n",
    "lst[:-2]\n",
    "lst[2:4]"
   ]
  },
  {
   "cell_type": "code",
   "execution_count": null,
   "metadata": {},
   "outputs": [],
   "source": [
    "frame=\"date_job_09022022.txt\"\n",
    "frame[:-4:-1]"
   ]
  },
  {
   "cell_type": "code",
   "execution_count": null,
   "metadata": {},
   "outputs": [],
   "source": [
    "\n",
    "yu=['1','2','3','4','6','wd','wk','no']\n",
    "valid_ip=False\n",
    "while not valid_ip:\n",
    "     ru=input(\"give prompt\")\n",
    "        if ru in yu:\n",
    "        valid_ip=True\n",
    "        if ru=='1':\n",
    "        print(\"it is one\")\n",
    "        if ru=='2':\n",
    "        print(\"it is two\")\n",
    "    if ru=='3':\n",
    "        print(\"It is a fucking three\")\n",
    "    if ru=='4':\n",
    "        print(\"it is a boundary ball\")\n",
    "    if ru=='6':\n",
    "        print(\"It is a fucking six\")\n",
    "    if ru=='wd':\n",
    "        print(\"it is a wide\")\n",
    "    if ru=='no':\n",
    "        print(\"it is a nnooooo ball\")\n",
    "    \n",
    "        "
   ]
  },
  {
   "cell_type": "code",
   "execution_count": null,
   "metadata": {},
   "outputs": [],
   "source": [
    "print(\"The number of elements in yu:\",len(yu))"
   ]
  },
  {
   "cell_type": "code",
   "execution_count": null,
   "metadata": {},
   "outputs": [],
   "source": [
    "print(\"the greates number in the list:\",max(yu))"
   ]
  },
  {
   "cell_type": "code",
   "execution_count": null,
   "metadata": {},
   "outputs": [],
   "source": [
    "a=input(\"1st side of triangle\")\n",
    "b=input(\"2nd side of triangle\")\n",
    "c=input(\"3rd side of triangle\")\n",
    "if a==b==c:\n",
    "    print(\"It is a equilateral traingle\")\n",
    "elif a==b or b==c or c==a:\n",
    "    print(\"It is isoscles triangle\")\n",
    "else:\n",
    "    print(\"It is a scalene triangle\")\n",
    "def right_angled(a, b, c):\n",
    "    if (a*a+b*b==c*c) or (c*c+b*b==a*a) or (a*a+c*c==b*b) :\n",
    "        return \"The triangle is right-angled.\" \n",
    "    else:\n",
    "        return \"The triangle is not right-angled.\"\n",
    "\n"
   ]
  },
  {
   "cell_type": "code",
   "execution_count": null,
   "metadata": {},
   "outputs": [],
   "source": [
    "n=int(input(\"Enter a Number\"))\n",
    "if n%2!=0:\n",
    "    print(\"Weird\")\n",
    "elif n%2==0 and n>20:\n",
    "    print(\"Not Weird\")\n",
    "elif n%2!=0 and 2<=n<=5:\n",
    "    print(\"Not Weird\")\n",
    "else:\n",
    "    print(\"Not Weird\")\n",
    "    \n",
    "    "
   ]
  },
  {
   "cell_type": "code",
   "execution_count": null,
   "metadata": {},
   "outputs": [],
   "source": [
    "x=200\n",
    "print(x)\n",
    "y=100\n",
    "y+=5\n",
    "print(x*y)"
   ]
  },
  {
   "cell_type": "code",
   "execution_count": null,
   "metadata": {},
   "outputs": [],
   "source": [
    "v1=\"pikachu\"\n",
    "v0=\"pichu\"\n",
    "v2=\"Richu\"\n",
    "for v in v1:\n",
    "    print(v)\n"
   ]
  },
  {
   "cell_type": "code",
   "execution_count": null,
   "metadata": {},
   "outputs": [],
   "source": [
    "pokelist=[\"1\",\"2\",\"jigglipuff\",25,46]\n",
    "for poke in pokelist:\n",
    "    if poke==\"1\":\n",
    "        print(\"found\")\n",
    "    else:\n",
    "        continue"
   ]
  },
  {
   "cell_type": "code",
   "execution_count": null,
   "metadata": {},
   "outputs": [],
   "source": [
    "l1=[\"pikachu_10\",\"mnyy\",\"gsjg\"]\n",
    "v1=\"pikachu_1\"\n",
    "print(v1[:3])\n",
    "print(l1[1])\n",
    "print(l1[0])\n",
    "print(l1[-1])"
   ]
  },
  {
   "cell_type": "code",
   "execution_count": null,
   "metadata": {},
   "outputs": [],
   "source": [
    "v1=\"pikachu\"\n",
    "print(v1[-3:])"
   ]
  },
  {
   "cell_type": "code",
   "execution_count": null,
   "metadata": {},
   "outputs": [],
   "source": [
    "v1[:]"
   ]
  },
  {
   "cell_type": "markdown",
   "metadata": {},
   "source": [
    "## STring Slicing"
   ]
  },
  {
   "cell_type": "code",
   "execution_count": null,
   "metadata": {},
   "outputs": [],
   "source": [
    "Neel=[\"bulb_21\",\"coocoo_54\",\"sqitele_42\",\"charmoder_29\",\"fooodon_58\"]\n",
    "for am in Neel:\n",
    "    th=am.startswith('bu')\n",
    "    print(th)\n",
    "    \n",
    "    \n",
    "    "
   ]
  },
  {
   "cell_type": "code",
   "execution_count": null,
   "metadata": {},
   "outputs": [],
   "source": [
    "mab = ['apple', 'Apricot', 'banner','dfj','jydfjy']\n",
    "ny=[]\n",
    "for i in mab[::2]:\n",
    "    ny.append(i)\n",
    "print(ny\n",
    "     )\n",
    "    \n",
    "    \n"
   ]
  },
  {
   "cell_type": "code",
   "execution_count": null,
   "metadata": {},
   "outputs": [],
   "source": [
    "a=input()\n",
    "b=input()\n",
    "c=(a==b)\n",
    "b=(a<=b)\n",
    "print(c)\n",
    "print(b)\n",
    "print(c and b)\n",
    "\n"
   ]
  },
  {
   "cell_type": "code",
   "execution_count": null,
   "metadata": {},
   "outputs": [],
   "source": [
    "S=\"Python is a Programming language\"\n",
    "a=input()\n",
    "b=input()\n",
    "c=input()\n",
    "if a in S:\n",
    "    print(\"True\")\n",
    "else:\n",
    "    print(\"False\")\n",
    "if b in S:\n",
    "    print(\"True\")\n",
    "else:\n",
    "    print(\"False\")\n",
    "if c in S:\n",
    "    print(\"True\")\n",
    "else:\n",
    "    print(\"False\")"
   ]
  },
  {
   "cell_type": "code",
   "execution_count": null,
   "metadata": {},
   "outputs": [],
   "source": [
    "a=str(input())\n",
    "b=str(input())\n",
    "d=(a==b)\n",
    "print(str(a)+\" is \"+str(b)+\"=\",c)"
   ]
  },
  {
   "cell_type": "code",
   "execution_count": null,
   "metadata": {},
   "outputs": [],
   "source": [
    "s1=[\"Raichu\",\"pikachu\",\"muk\",\"bulbasur\",\"charizad\",\"gengar\"]\n",
    "print(s1[::4\n",
    "    ])\n",
    "print(s1[::-1])"
   ]
  },
  {
   "cell_type": "code",
   "execution_count": null,
   "metadata": {},
   "outputs": [],
   "source": [
    "s2=\"sBS\"\n",
    "s2[0]\n",
    "s2[::-1]"
   ]
  },
  {
   "cell_type": "code",
   "execution_count": null,
   "metadata": {},
   "outputs": [],
   "source": [
    "s1=\"Sahib[123]\"\n",
    "s1[::-1]"
   ]
  },
  {
   "cell_type": "code",
   "execution_count": null,
   "metadata": {},
   "outputs": [],
   "source": [
    "print(type(s1))"
   ]
  },
  {
   "cell_type": "code",
   "execution_count": null,
   "metadata": {},
   "outputs": [],
   "source": [
    "s1=\"pikachu\"\n",
    "s1=list(s1)\n",
    "s1[0]=\"z\"\n",
    "s1=\"\".join(s1)\n",
    "print(s1[::-1])\n",
    "s2="
   ]
  },
  {
   "cell_type": "code",
   "execution_count": null,
   "metadata": {},
   "outputs": [],
   "source": [
    "s1=[\"bob\",\"Jacob\",\"Rob\"]\n"
   ]
  },
  {
   "cell_type": "code",
   "execution_count": null,
   "metadata": {},
   "outputs": [],
   "source": [
    "o=[[1,2,3],[61,62,69]]\n",
    "print(len(o))\n",
    "for a in o:\n",
    "    for b in a:\n",
    "        if b==3 or b==69:\n",
    "            print(b)"
   ]
  },
  {
   "cell_type": "code",
   "execution_count": null,
   "metadata": {},
   "outputs": [],
   "source": [
    "nk=[[\"Jenny\",\"Tom\",\"mickey\"],[\"mouse\",\"rat\",\"dog\",\"ghtyu\"]]\n",
    "for i in nk:\n",
    "    for a in i:\n",
    "        if a==\"Tom\" or a==\"rat\":\n",
    "            print(a[::-1])\n",
    "        elif a==\"dog\":\n",
    "            print(a*2)"
   ]
  },
  {
   "cell_type": "code",
   "execution_count": null,
   "metadata": {},
   "outputs": [],
   "source": [
    "z='satin'\n",
    "print(''.join(list(z)[::-1]))"
   ]
  },
  {
   "cell_type": "code",
   "execution_count": null,
   "metadata": {},
   "outputs": [],
   "source": [
    "w=set([1,2,3,3,4,4,5,6])\n",
    "print(w)\n",
    "print(type(w))"
   ]
  },
  {
   "cell_type": "code",
   "execution_count": null,
   "metadata": {},
   "outputs": [],
   "source": [
    "f=set(['A','B','C'])\n",
    "s2=set([1,2,'A','B'])\n",
    "print(f|s2)\n",
    "print(f&s2)\n",
    "print(f-s2)\n",
    "print(type(f))"
   ]
  },
  {
   "cell_type": "code",
   "execution_count": null,
   "metadata": {},
   "outputs": [],
   "source": [
    "un=['Dhoni','Chris Crayle','Kohli','AB de villiers','Yash','Steve Smith','Dhoni','Chris','Kohli']\n",
    "lit={'Kohli':23,'Dhoni':7,'Steve Smith':89}\n",
    "for i,k in zip(list.keys(),list.values()):\n",
    "    print(i,k)\n",
    "print(list.keys())\n",
    "print(type(list.keys()))\n",
    "print(list.values())\n",
    "print(type(list.values()))"
   ]
  },
  {
   "cell_type": "code",
   "execution_count": null,
   "metadata": {},
   "outputs": [],
   "source": [
    "ls=['Dhoni','Kohli','Chris','Ab de villiers,Yash','Steve Smith','Dhoni','Sushanth','Kohli']\n",
    "for i in ls[::-1][::-1][::-1][:4:3]:\n",
    "    print(i)\n",
    "ls1=[]\n",
    "ls=list(set(ls))\n",
    "dc1={'Kohli':23,'Dhoni':7,'Steve Smith':89}\n",
    "for i in ls:\n",
    "    if i=='Kohli' or i=='Steve Smith':\n",
    "        ls1.append(dc1[i])\n",
    "print(ls1)"
   ]
  },
  {
   "cell_type": "code",
   "execution_count": null,
   "metadata": {},
   "outputs": [],
   "source": []
  },
  {
   "cell_type": "code",
   "execution_count": null,
   "metadata": {
    "scrolled": true
   },
   "outputs": [],
   "source": [
    "ls2=[100,'600$',23,'Monday']\n",
    "for j,i in enumerate (ls2):\n",
    "    print(j+1,i)"
   ]
  },
  {
   "cell_type": "code",
   "execution_count": null,
   "metadata": {},
   "outputs": [],
   "source": [
    "s1='I Like Coffee'\n",
    "k2=[]\n",
    "for i in list(s1):\n",
    "    if i!=' ':\n",
    "        i.append(k1)\n",
    "        print(' '.join(k2))"
   ]
  },
  {
   "cell_type": "code",
   "execution_count": 7,
   "metadata": {},
   "outputs": [],
   "source": [
    "dc1={'Kohli':23,'Dhoni':7,'Steve':89}\n",
    "ls_keys=[]\n",
    "ls_values=[]\n",
    "for i,j in dc1.items():\n",
    "    ls_keys.append(j)\n",
    "    ls_values.append(i)\n",
    "    dc1_rev={}\n",
    "    for i,j in zip(ls_keys,ls_values):\n",
    "        dc1_rev[i]=j\n",
    "        "
   ]
  },
  {
   "cell_type": "code",
   "execution_count": null,
   "metadata": {},
   "outputs": [],
   "source": []
  }
 ],
 "metadata": {
  "kernelspec": {
   "display_name": "Python 3",
   "language": "python",
   "name": "python3"
  },
  "language_info": {
   "codemirror_mode": {
    "name": "ipython",
    "version": 3
   },
   "file_extension": ".py",
   "mimetype": "text/x-python",
   "name": "python",
   "nbconvert_exporter": "python",
   "pygments_lexer": "ipython3",
   "version": "3.6.5"
  }
 },
 "nbformat": 4,
 "nbformat_minor": 2
}
